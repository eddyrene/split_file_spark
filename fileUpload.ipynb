{
 "cells": [
  {
   "cell_type": "markdown",
   "metadata": {},
   "source": [
    "# Upload to HDFS"
   ]
  },
  {
   "cell_type": "code",
   "execution_count": 36,
   "metadata": {},
   "outputs": [
    {
     "data": {
      "text/plain": [
       "'/user/hadoop/UAI.txt'"
      ]
     },
     "execution_count": 36,
     "metadata": {},
     "output_type": "execute_result"
    }
   ],
   "source": [
    "from hdfs import InsecureClient\n",
    "from requests import Session\n",
    "from requests.auth import HTTPBasicAuth\n",
    "\n",
    "session = Session()\n",
    "session.auth = HTTPBasicAuth('hadoop', '7627276')\n",
    "client_hdfs = InsecureClient('http://0.0.0.0:9870', user='hadoop', session=session)\n",
    "client_hdfs.upload('UAI.txt','UAI.txt',overwrite=True)\n"
   ]
  },
  {
   "cell_type": "markdown",
   "metadata": {},
   "source": [
    "# Read from HDFS"
   ]
  },
  {
   "cell_type": "code",
   "execution_count": 37,
   "metadata": {},
   "outputs": [],
   "source": [
    "\n",
    "import findspark\n",
    "findspark.init()\n",
    "\n",
    "import pyspark \n",
    "from pyspark.sql import SparkSession\n",
    "from pyspark.sql.types import StructType\n",
    "\n",
    "spark = SparkSession.builder\\\n",
    "        .master(\"local\")\\\n",
    "        .appName(\"spark-linux\")\\\n",
    "        .config('spark.ui.port', '4050')\\\n",
    "        .getOrCreate()"
   ]
  },
  {
   "cell_type": "code",
   "execution_count": 38,
   "metadata": {},
   "outputs": [],
   "source": [
    "booksSchema = StructType() \\\n",
    "                    \t.add(\"id\", \"string\")\\\n",
    "                    \t.add(\"Date\", \"string\")\\\n",
    "                    \t.add(\"Amount\", \"string\")"
   ]
  },
  {
   "cell_type": "code",
   "execution_count": null,
   "metadata": {},
   "outputs": [],
   "source": [
    "\n",
    "df_spark = spark.read.csv(\"hdfs://localhost:8790/user/hadoop/UAI.txt\",)\n",
    "#df_spark = df_spark.withColumnRenamed(\"_c0\", \"raw_data\")\n",
    "df_spark\n",
    "#booksdata=spark.read.csv(\"hdfs://localhost:9000/user/hadoop/UAI.txt\", schema=booksSchema)"
   ]
  }
 ],
 "metadata": {
  "interpreter": {
   "hash": "921ccdf62afeb5adeedc50f913dd208fa4bfbb9d47d13fb0ae9574b2c81aeebb"
  },
  "kernelspec": {
   "display_name": "Python 3.8.0 ('pyspark')",
   "language": "python",
   "name": "python3"
  },
  "language_info": {
   "codemirror_mode": {
    "name": "ipython",
    "version": 3
   },
   "file_extension": ".py",
   "mimetype": "text/x-python",
   "name": "python",
   "nbconvert_exporter": "python",
   "pygments_lexer": "ipython3",
   "version": "3.8.0"
  },
  "orig_nbformat": 4
 },
 "nbformat": 4,
 "nbformat_minor": 2
}
