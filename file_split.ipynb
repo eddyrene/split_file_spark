{
 "cells": [
  {
   "cell_type": "code",
   "execution_count": 4,
   "metadata": {},
   "outputs": [],
   "source": [
    "#os.environ[\"JAVA_HOME\"] = \"/usr/lib/jvm/java-8-openjdk-amd64\"\n",
    "#os.environ[\"SPARK_HOME\"] = f\"/content/{ver_spark}-bin-hadoop2.7\"\n",
    "\n",
    "import findspark\n",
    "findspark.init()"
   ]
  },
  {
   "cell_type": "code",
   "execution_count": 5,
   "metadata": {},
   "outputs": [],
   "source": [
    "from pyspark.sql import SparkSession\n",
    "\n",
    "spark = SparkSession.builder\\\n",
    "        .master(\"local\")\\\n",
    "        .appName(\"spark-linux\")\\\n",
    "        .config('spark.ui.port', '4050')\\\n",
    "        .getOrCreate()"
   ]
  },
  {
   "cell_type": "code",
   "execution_count": 6,
   "metadata": {},
   "outputs": [
    {
     "data": {
      "text/html": [
       "\n",
       "            <div>\n",
       "                <p><b>SparkSession - in-memory</b></p>\n",
       "                \n",
       "        <div>\n",
       "            <p><b>SparkContext</b></p>\n",
       "\n",
       "            <p><a href=\"http://192.168.1.13:4050\">Spark UI</a></p>\n",
       "\n",
       "            <dl>\n",
       "              <dt>Version</dt>\n",
       "                <dd><code>v3.2.1</code></dd>\n",
       "              <dt>Master</dt>\n",
       "                <dd><code>local</code></dd>\n",
       "              <dt>AppName</dt>\n",
       "                <dd><code>Colab</code></dd>\n",
       "            </dl>\n",
       "        </div>\n",
       "        \n",
       "            </div>\n",
       "        "
      ],
      "text/plain": [
       "<pyspark.sql.session.SparkSession at 0x7f77c9ccf910>"
      ]
     },
     "execution_count": 6,
     "metadata": {},
     "output_type": "execute_result"
    }
   ],
   "source": [
    "spark"
   ]
  },
  {
   "cell_type": "code",
   "execution_count": 7,
   "metadata": {},
   "outputs": [
    {
     "name": "stderr",
     "output_type": "stream",
     "text": [
      "                                                                                \r"
     ]
    },
    {
     "data": {
      "text/plain": [
       "DataFrame[raw_data: string]"
      ]
     },
     "execution_count": 7,
     "metadata": {},
     "output_type": "execute_result"
    }
   ],
   "source": [
    "archivo = 'UAI.txt'\n",
    "df_spark = spark.read.csv(archivo, inferSchema=True, header=False)\n",
    "df_spark = df_spark.withColumnRenamed(\"_c0\", \"raw_data\")\n",
    "df_spark"
   ]
  },
  {
   "cell_type": "code",
   "execution_count": 8,
   "metadata": {},
   "outputs": [
    {
     "name": "stdout",
     "output_type": "stream",
     "text": [
      "+---------+---------+-------------+\n",
      "|      IDC|CODMES_UN|           UN|\n",
      "+---------+---------+-------------+\n",
      "|000289433|   202111|      0.00000|\n",
      "|000427923|   202111|   1250.99795|\n",
      "|000460383|   202111|   4161.56477|\n",
      "|000694321|   202111|  20209.04812|\n",
      "|000855471|   202111|      0.00000|\n",
      "|000876813|   202111|   -297.74091|\n",
      "|000915181|   202111|  22672.36264|\n",
      "|000935511|   202111|-805742.54000|\n",
      "|001107721|   202111|    808.29241|\n",
      "|001122193|   202111|     15.96197|\n",
      "|001231351|   202111|      0.00000|\n",
      "|001279721|   202111|   -334.53229|\n",
      "|001532843|   202111|     36.61424|\n",
      "|002119693|   202111|    639.73073|\n",
      "|002159643|   202111|      0.00000|\n",
      "|002239163|   202111|   -340.97586|\n",
      "|002378363|   202111|  75683.98026|\n",
      "|002709223|   202111| 195671.77998|\n",
      "|002771703|   202111|  25497.85358|\n",
      "|003093313|   202111|     77.60728|\n",
      "+---------+---------+-------------+\n",
      "only showing top 20 rows\n",
      "\n"
     ]
    }
   ],
   "source": [
    "import pyspark.sql.functions as F\n",
    "\n",
    "df = df_spark.withColumn('IDC', F.substring('raw_data',1,9))\\\n",
    "            .withColumn('CODMES_UN', F.substring('raw_data',10,6))\\\n",
    "            .withColumn(\"UN\",F.expr(\"substring(raw_data, 16, length(raw_data)-15)\"))\n",
    "\n",
    "df = df.drop('raw_data')\n",
    "df.show()\n",
    "\n",
    "#saving as parquet \n",
    "#df.write.parquet(\"output/proto.parquet\")b"
   ]
  },
  {
   "cell_type": "code",
   "execution_count": 10,
   "metadata": {},
   "outputs": [
    {
     "name": "stderr",
     "output_type": "stream",
     "text": [
      "                                                                                \r"
     ]
    }
   ],
   "source": [
    "#saving as parquet \n",
    "df.write.parquet(\"output/UAI2\")"
   ]
  }
 ],
 "metadata": {
  "interpreter": {
   "hash": "82e838a5afa22f1da4d2e3c46086c8bf0ba22a28e03b505433d7913719038186"
  },
  "kernelspec": {
   "display_name": "Python 3.8.12 ('pyspark')",
   "language": "python",
   "name": "python3"
  },
  "language_info": {
   "codemirror_mode": {
    "name": "ipython",
    "version": 3
   },
   "file_extension": ".py",
   "mimetype": "text/x-python",
   "name": "python",
   "nbconvert_exporter": "python",
   "pygments_lexer": "ipython3",
   "version": "3.8.0"
  },
  "orig_nbformat": 4
 },
 "nbformat": 4,
 "nbformat_minor": 2
}
